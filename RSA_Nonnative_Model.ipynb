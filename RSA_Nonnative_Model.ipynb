{
 "cells": [
  {
   "cell_type": "code",
   "execution_count": 2,
   "id": "d133fc43",
   "metadata": {},
   "outputs": [],
   "source": [
    "import numpy as np\n",
    "import matplotlib.pyplot as plt"
   ]
  },
  {
   "cell_type": "code",
   "execution_count": null,
   "id": "30a225bb",
   "metadata": {},
   "outputs": [],
   "source": [
    "# vanilla RSA adapted from seminar's RSA model\n",
    "## My changes:\n",
    "## Changed constructor to include truth_matrix\n",
    "## Removed L0_truth_table() (now included in constructor)\n",
    "## Made model more flexible, i.e. less specific to the previous assignment\n",
    "\n",
    "## note to self: barebones for now\n",
    "\n",
    "class RSAModel()\n",
    "    def __init__(self, objects, messages, truth_matrix, alpha, priors, cost_function)\n",
    "        if truth_matrix.shape != (len(objects, len(messages))):\n",
    "          raise ValueError(\"\"\"Truth matrix must be m x n, \n",
    "          where m is number of objects and n is the number of messages\"\"\")\n",
    "        self.objects = objects\n",
    "        self.messages = messages\n",
    "        self.truth_matrix = truth_matrix\n",
    "        self.alpha = alpha\n",
    "        self.priors = priors\n",
    "        self.cost_function = cost_function\n",
    "        \n",
    "        # the following are for convenience\n",
    "        self.n_obj = len(self.objects)\n",
    "        self.n_mes = len(self.messages)\n",
    "    \n",
    "    def __normalize(self, arr):\n",
    "        return arr / arr.sum(axis=1)\n",
    "    \n",
    "    def L0(self):\n",
    "        #compute [[m]](o): literal meaning\n",
    "        literal_meaning = self.truth_table\n",
    "\n",
    "        #P(o) -- create a matrix of priors by repeating the priors array for each row\n",
    "        priors = np.tile(np.array(self.priors), (self.n_obj,1))\n",
    "\n",
    "        #multiply the two of L0 terms together\n",
    "        unnorm  =  literal_meaning * priors\n",
    "\n",
    "        #normalize to obtain a probability distribution\n",
    "        norm = self.__normalize(unnorm)\n",
    "\n",
    "        return norm\n",
    "    \n",
    "    def S1(self):\n",
    "        #compute the costs for each expression in self.messages\n",
    "        costs = self.cost_function()\n",
    "\n",
    "        #utility without costs\n",
    "        raw_utility = np.log(self.L0().T)\n",
    "\n",
    "        #Cost(m) -- reshape to obtain correct dimensions for matrix multiplication\n",
    "        costs = np.repeat(self.cost_function(),2).reshape((self.n_mes, self.n_obj)).T # may be an error here\n",
    "\n",
    "        #compute utility by subtracting costs from informativity\n",
    "        utility = np.subtract(raw_utility,costs)\n",
    "\n",
    "        #compute S1(m|o) by taking the exponent of utility times the temperature parameter alpha\n",
    "        unnorm = np.exp(self.alpha*utility)\n",
    "\n",
    "        #normalize to obtain a probability distribution\n",
    "        norm = self.__normalize(unnorm)\n",
    "\n",
    "        return norm\n",
    "    \n",
    "    def L1(self):\n",
    "        #S1(m|o)\n",
    "        S1 = self.S1()\n",
    "        \n",
    "        #P(o) -- create a matrix of priors by repeating the priors array for each row\n",
    "        priors = np.tile(np.array(self.priors), (self.n_obj, 1)) # may be an error here\n",
    "\n",
    "        #multiply S1(m|o) (transformed, since we need a distribution over objects, not over messages) and P(o) together\n",
    "        unnorm = S1.T * priors\n",
    "\n",
    "        #normalize to obtain a probability distribution\n",
    "        norm = self.normalize(unnorm)\n",
    "\n",
    "        return norm       "
   ]
  },
  {
   "cell_type": "code",
   "execution_count": 3,
   "id": "63fe2891",
   "metadata": {},
   "outputs": [
    {
     "name": "stdout",
     "output_type": "stream",
     "text": [
      "[[1. 1.]\n",
      " [1. 1.]]\n",
      "[[2]\n",
      " [1]]\n"
     ]
    },
    {
     "data": {
      "text/plain": [
       "array([[2., 2.],\n",
       "       [1., 1.]])"
      ]
     },
     "execution_count": 3,
     "metadata": {},
     "output_type": "execute_result"
    }
   ],
   "source": [
    "A = np.ones((2,2))\n",
    "B = np.array([[2],[1]])\n",
    "\n",
    "print(A)"
   ]
  },
  {
   "cell_type": "code",
   "execution_count": null,
   "id": "2e93ec7d",
   "metadata": {},
   "outputs": [],
   "source": []
  }
 ],
 "metadata": {
  "kernelspec": {
   "display_name": "Python 3 (ipykernel)",
   "language": "python",
   "name": "python3"
  },
  "language_info": {
   "codemirror_mode": {
    "name": "ipython",
    "version": 3
   },
   "file_extension": ".py",
   "mimetype": "text/x-python",
   "name": "python",
   "nbconvert_exporter": "python",
   "pygments_lexer": "ipython3",
   "version": "3.9.13"
  }
 },
 "nbformat": 4,
 "nbformat_minor": 5
}

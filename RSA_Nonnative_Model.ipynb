{
 "cells": [
  {
   "cell_type": "code",
   "execution_count": 174,
   "id": "22af7346",
   "metadata": {},
   "outputs": [],
   "source": [
    "import numpy as np\n",
    "import matplotlib.pyplot as plt\n",
    "\n",
    "np.set_printoptions(precision = 3, suppress = True)"
   ]
  },
  {
   "cell_type": "code",
   "execution_count": 175,
   "id": "2c1f186d",
   "metadata": {},
   "outputs": [],
   "source": [
    "# vanilla RSA adapted from seminar's RSA model\n",
    "## My changes:\n",
    "## Changed constructor to include truth_table\n",
    "## Removed L0_truth_table() (now implemented in constructor)\n",
    "## Allowed for different objects and messages as well as different numbers of each\n",
    "## Allowed for different truth tables\n",
    "\n",
    "## note to self: barebones for now -- docstrings, more exceptions would be nice\n",
    "\n",
    "class RSAModel():\n",
    "    def __init__(self, objects, messages, truth_table, alpha, prior_o, cost_function):\n",
    "        if np.shape(truth_table) != (len(messages),len(objects)):\n",
    "          raise ValueError(\"\"\"Truth matrix must be m x n, \n",
    "          where m is number of messages and n is the number of objects\"\"\")\n",
    "        self.objects = objects\n",
    "        self.messages = messages\n",
    "        self.truth_table = truth_table\n",
    "        self.alpha = alpha\n",
    "        self.prior_o = prior_o\n",
    "        self.cost_function = cost_function\n",
    "        \n",
    "        # the following are for convenience\n",
    "        self.n_obj = len(self.objects)\n",
    "        self.n_mes = len(self.messages)\n",
    "    \n",
    "    def normalize(self, arr):\n",
    "        return arr / arr.sum(axis=1)[:, np.newaxis]\n",
    "    \n",
    "    def L0(self):\n",
    "        #compute [[m]](o): literal meaning\n",
    "        literal_meaning = self.truth_table\n",
    "\n",
    "        #P(o) -- create a matrix of priors by repeating the priors array for each row\n",
    "        prior_o = np.tile(np.array(self.prior_o), (self.n_mes,1))\n",
    "\n",
    "        #multiply the two of L0 terms together\n",
    "        unnorm  =  literal_meaning * prior_o\n",
    "\n",
    "        #normalize to obtain a probability distribution\n",
    "        norm = self.normalize(unnorm)\n",
    "\n",
    "        return norm\n",
    "    \n",
    "    def S1(self):\n",
    "        #compute the costs for each expression in self.messages\n",
    "        costs = self.cost_function()\n",
    "\n",
    "        #utility without costs\n",
    "        epsilon = 1e-10 # to prevent log(0)\n",
    "        raw_utility = np.log(self.L0().T + epsilon)\n",
    "\n",
    "        #Cost(m) -- reshape to obtain correct dimensions for matrix multiplication\n",
    "        costs = np.repeat(self.cost_function(),2).reshape((self.n_mes, self.n_obj)).T\n",
    "\n",
    "        #compute utility by subtracting costs from informativity\n",
    "        utility = np.subtract(raw_utility,costs)\n",
    "\n",
    "        #compute S1(m|o) by taking the exponent of utility times the temperature parameter alpha\n",
    "        unnorm = np.exp(self.alpha*utility)\n",
    "\n",
    "        #normalize to obtain a probability distribution\n",
    "        norm = self.normalize(unnorm)\n",
    "\n",
    "        return norm\n",
    "    \n",
    "    def L1(self):\n",
    "        #S1(m|o)\n",
    "        S1 = self.S1()\n",
    "        \n",
    "        #P(o) -- create a matrix of priors by repeating the priors array for each row\n",
    "        prior_o = np.tile(np.array(self.prior_o), (self.n_mes, 1)) \n",
    "\n",
    "        #multiply S1(m|o) (transformed, since we need a distribution over objects, not over messages) and P(o) together\n",
    "        unnorm = S1.T * prior_o\n",
    "\n",
    "        #normalize to obtain a probability distribution\n",
    "        norm = self.normalize(unnorm)\n",
    "\n",
    "        return norm       "
   ]
  },
  {
   "cell_type": "markdown",
   "id": "b45063bc",
   "metadata": {},
   "source": [
    "# Vanilla model\n",
    "### In this example, we create a model using a zero cost function (i.e. all utterances have zero cost), boolean truth matrices (i.e. unweighted matrices) and uniform priors over objects"
   ]
  },
  {
   "cell_type": "code",
   "execution_count": 176,
   "id": "f2dd0b54",
   "metadata": {},
   "outputs": [
    {
     "name": "stdout",
     "output_type": "stream",
     "text": [
      "(3, 2)\n"
     ]
    }
   ],
   "source": [
    "# Example of vanilla model\n",
    "objects = ['greyhound','dalmatian']\n",
    "messages = ['dog','greyhound','dalmatian']\n",
    "truth_table = np.array([[1,1,0],[1,0,1]]).T\n",
    "print(truth_table.shape)\n",
    "prior_o = [0.5,0.5]\n",
    "alpha = 0.8\n",
    "\n",
    "def cost_function(): # we'll need to figure this out later\n",
    "    return [0,0,0]\n",
    "\n",
    "vanilla = RSAModel(objects, messages, truth_table, alpha, prior_o ,cost_function)"
   ]
  },
  {
   "cell_type": "code",
   "execution_count": 177,
   "id": "52dc6cab",
   "metadata": {},
   "outputs": [
    {
     "data": {
      "text/plain": [
       "array([[0.5, 0.5],\n",
       "       [1. , 0. ],\n",
       "       [0. , 1. ]])"
      ]
     },
     "execution_count": 177,
     "metadata": {},
     "output_type": "execute_result"
    }
   ],
   "source": [
    "# vanilla L0\n",
    "vanilla.L0()"
   ]
  },
  {
   "cell_type": "code",
   "execution_count": 178,
   "id": "084b0977",
   "metadata": {},
   "outputs": [
    {
     "data": {
      "text/plain": [
       "array([[0.365, 0.635, 0.   ],\n",
       "       [0.365, 0.   , 0.635]])"
      ]
     },
     "execution_count": 178,
     "metadata": {},
     "output_type": "execute_result"
    }
   ],
   "source": [
    "# vanilla S1\n",
    "vanilla.S1()"
   ]
  },
  {
   "cell_type": "code",
   "execution_count": 179,
   "id": "38a9e352",
   "metadata": {},
   "outputs": [
    {
     "data": {
      "text/plain": [
       "array([[0.5, 0.5],\n",
       "       [1. , 0. ],\n",
       "       [0. , 1. ]])"
      ]
     },
     "execution_count": 179,
     "metadata": {},
     "output_type": "execute_result"
    }
   ],
   "source": [
    "# vanilla L1\n",
    "vanilla.L1()"
   ]
  },
  {
   "cell_type": "markdown",
   "id": "251463d2",
   "metadata": {},
   "source": [
    "# Option 1: Modify S1 by adding a prior probability of utterances\n",
    "### Here, we modify the S1 equation by adding a prior probability over messages $P(m)$, resulting in following equation: <br>$$ S_{1}(m|o) \\propto exp(\\alpha \\cdot U(m;o)) P(m)$$ <br> This is a flexible tool, but in the context of this project, the main utility is that we can choose a different prior over messages for natives and non-natives, i.e. $P(m|l)$, where $l = 1$ if the speaker is native else $l = 0$. A more fine-grained approach could change $l$ to a continuous variable representing the level of the non-native speaker. <br> The motivation here is that now the pragmatic listener can calculate the probability of the speaker saying message $m$ based on whether they are a native-speaker. For example, we can make less common words be less probable if the speaker is non-native if the pragmatic listener thinks the speaker probably does not know them."
   ]
  },
  {
   "cell_type": "code",
   "execution_count": 180,
   "id": "948f31f7",
   "metadata": {},
   "outputs": [],
   "source": [
    "class RSAModelWithPriorOverUtterances(RSAModel):\n",
    "    def __init__(self, objects, messages, truth_table, alpha, prior_o, prior_m, cost_function):\n",
    "        super().__init__(objects, messages, truth_table, alpha, prior_o, cost_function)\n",
    "        self.prior_m = prior_m\n",
    "    \n",
    "    def S1(self):\n",
    "        #compute the costs for each expression in self.messages\n",
    "        costs = self.cost_function()\n",
    "\n",
    "        #utility without costs\n",
    "        epsilon = 1e-10 # to prevent log(0)\n",
    "        raw_utility = np.log(self.L0().T + epsilon)\n",
    "\n",
    "        #Cost(m) -- reshape to obtain correct dimensions for matrix multiplication\n",
    "        costs = np.repeat(self.cost_function(),2).reshape((self.n_mes, self.n_obj)).T\n",
    "\n",
    "        #compute utility by subtracting costs from informativity\n",
    "        utility = np.subtract(raw_utility,costs)\n",
    "        \n",
    "        #P(m): prior over messages\n",
    "        prior_m = np.tile(np.array(self.prior_m), (self.n_obj,1))\n",
    "        \n",
    "        #multiple utility by the prior over messages\n",
    "        weighted = utility * prior_m\n",
    "\n",
    "        #compute S1(m|o) by taking the exponent of utility times the temperature parameter alpha\n",
    "        unnorm = np.exp(self.alpha*weighted)\n",
    "\n",
    "        #normalize to obtain a probability distribution\n",
    "        norm = self.normalize(unnorm)\n",
    "\n",
    "        return norm"
   ]
  },
  {
   "cell_type": "markdown",
   "id": "3919adca",
   "metadata": {},
   "source": [
    "## Native speaker\n",
    "### Below we can see L0, S1 and L1 when the speaker is native. For the prior over messages, I choose a uniform distribution for the native speaker, with the idea that the native speaker is equally likely to know all the messages. Consequentially, the results are, of course, the same as in the vanilla model."
   ]
  },
  {
   "cell_type": "code",
   "execution_count": 181,
   "id": "55b8d504",
   "metadata": {},
   "outputs": [
    {
     "name": "stdout",
     "output_type": "stream",
     "text": [
      "[[0.5 0.5]\n",
      " [1.  0. ]\n",
      " [0.  1. ]]\n",
      "[[0.453 0.545 0.001]\n",
      " [0.453 0.001 0.545]]\n",
      "[[0.5   0.5  ]\n",
      " [0.998 0.002]\n",
      " [0.002 0.998]]\n"
     ]
    }
   ],
   "source": [
    "prior_m_native = np.ones(3) / 3 # i.e. uniform\n",
    "RSAOption1_native = RSAModelWithPriorOverUtterances(objects, messages, truth_table, alpha, \n",
    "                                                    prior_o ,prior_m_native, cost_function)\n",
    "print(RSAOption1_native.L0())\n",
    "print(RSAOption1_native.S1())\n",
    "print(RSAOption1_native.L1())"
   ]
  },
  {
   "cell_type": "markdown",
   "id": "95ace4d4",
   "metadata": {},
   "source": [
    "## Non-native speaker\n",
    "### Below we can see the same for when the speaker is non-native. For the prior over messages, I made 'dog' twice as probable as either 'greyhound' or 'dalmatian'. This reflects the intuition that a non-native speaker is more likely to know more common words than less common ones. "
   ]
  },
  {
   "cell_type": "code",
   "execution_count": 182,
   "id": "92c9de44",
   "metadata": {},
   "outputs": [],
   "source": [
    "prior_m_nonnative = [0.4,0.4,0.2] # i.e. 'dog' is twice as common as either of others\n",
    "RSAOption1_nonnative = RSAModelWithPriorOverUtterances(objects, messages, truth_table, alpha, \n",
    "                                                    prior_o ,prior_m_nonnative, cost_function)\n"
   ]
  },
  {
   "cell_type": "code",
   "execution_count": 183,
   "id": "0940d6f8",
   "metadata": {},
   "outputs": [
    {
     "name": "stdout",
     "output_type": "stream",
     "text": [
      "[[0.5 0.5]\n",
      " [1.  0. ]\n",
      " [0.  1. ]]\n",
      "[[0.439 0.548 0.014]\n",
      " [0.445 0.    0.555]]\n",
      "[[0.497 0.503]\n",
      " [0.999 0.001]\n",
      " [0.024 0.976]]\n"
     ]
    }
   ],
   "source": [
    "print(RSAOption1_nonnative.L0())\n",
    "print(RSAOption1_nonnative.S1())\n",
    "print(RSAOption1_nonnative.L1())"
   ]
  },
  {
   "cell_type": "code",
   "execution_count": null,
   "id": "b0523ded",
   "metadata": {},
   "outputs": [],
   "source": [
    "objects = ['dog','elephant']\n",
    "messages = ['dog','elephant','animal']\n",
    "truth_table = np.array([[1,1,0],[1,0,1]]).T\n",
    "print(truth_table.shape)\n",
    "prior_o = [0.5,0.5]\n",
    "alpha = 0.8\n",
    "\n",
    "def cost_function(): # we'll need to figure this out later\n",
    "    return [0,0,0]\n",
    "\n",
    "vanilla = RSAModel(objects, messages, truth_table, alpha, prior_o ,cost_function)"
   ]
  }
 ],
 "metadata": {
  "kernelspec": {
   "display_name": "Python 3 (ipykernel)",
   "language": "python",
   "name": "python3"
  },
  "language_info": {
   "codemirror_mode": {
    "name": "ipython",
    "version": 3
   },
   "file_extension": ".py",
   "mimetype": "text/x-python",
   "name": "python",
   "nbconvert_exporter": "python",
   "pygments_lexer": "ipython3",
   "version": "3.9.13"
  }
 },
 "nbformat": 4,
 "nbformat_minor": 5
}

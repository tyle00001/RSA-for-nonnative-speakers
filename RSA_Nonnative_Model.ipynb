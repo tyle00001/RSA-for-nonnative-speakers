{
 "cells": [
  {
   "cell_type": "code",
   "execution_count": null,
   "id": "21229515",
   "metadata": {},
   "outputs": [],
   "source": [
    "import numpy as np\n",
    "import matplotlib.pyplot as plt"
   ]
  },
  {
   "cell_type": "code",
   "execution_count": null,
   "id": "2afb09bd",
   "metadata": {},
   "outputs": [],
   "source": [
    "# vanilla RSA adapted from seminar's RSA model\n",
    "\n",
    "## note to self: barebones for now\n",
    "\n",
    "class RSAModel()\n",
    "  def __init(self, objects, messages, truth_matrix, alpha, priors, cost_function)\n",
    "    if truth_matrix.shape != (len(objects, len(messages))):\n",
    "      raise ValueError(\"\"\"Truth matrix must be m x n, \n",
    "      where m is number of objects and n is the number of messages\"\"\")\n",
    "    self.objects = objects\n",
    "    self.messages = messages\n",
    "    self.truth_matrix = truth\n",
    "    self.alpha = alpha\n",
    "    self.priors = priors\n",
    "    self.cost_function = cost_function\n",
    "\n",
    "  def __normalize(self, arr):\n",
    "    return arr / arr.sum(axis=1)\n",
    "\n",
    "\n"
   ]
  }
 ],
 "metadata": {
  "kernelspec": {
   "display_name": "Python 3 (ipykernel)",
   "language": "python",
   "name": "python3"
  },
  "language_info": {
   "codemirror_mode": {
    "name": "ipython",
    "version": 3
   },
   "file_extension": ".py",
   "mimetype": "text/x-python",
   "name": "python",
   "nbconvert_exporter": "python",
   "pygments_lexer": "ipython3",
   "version": "3.9.13"
  }
 },
 "nbformat": 4,
 "nbformat_minor": 5
}

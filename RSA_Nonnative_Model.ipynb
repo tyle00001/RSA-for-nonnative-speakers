{
 "cells": [
  {
   "cell_type": "code",
   "execution_count": 2,
   "id": "0abb7afa",
   "metadata": {},
   "outputs": [],
   "source": [
    "import numpy as np\n",
    "import matplotlib.pyplot as plt"
   ]
  },
  {
   "cell_type": "code",
   "execution_count": 80,
   "id": "7e766a57",
   "metadata": {},
   "outputs": [],
   "source": [
    "# vanilla RSA adapted from seminar's RSA model\n",
    "## My changes:\n",
    "## Changed constructor to include truth_matrix\n",
    "## Removed L0_truth_table() (now included in constructor)\n",
    "## Made model more flexible, i.e. less specific to the previous assignment\n",
    "\n",
    "## note to self: barebones for now\n",
    "\n",
    "class RSAModel():\n",
    "    def __init__(self, objects, messages, truth_table, alpha, priors, cost_function):\n",
    "        if np.shape(truth_table) != (len(messages),len(objects)):\n",
    "          raise ValueError(\"\"\"Truth matrix must be m x n, \n",
    "          where m is number of messages and n is the number of objects\"\"\")\n",
    "        self.objects = objects\n",
    "        self.messages = messages\n",
    "        self.truth_table = truth_table\n",
    "        self.alpha = alpha\n",
    "        self.priors = priors\n",
    "        self.cost_function = cost_function\n",
    "        \n",
    "        # the following are for convenience\n",
    "        self.n_obj = len(self.objects)\n",
    "        self.n_mes = len(self.messages)\n",
    "    \n",
    "    def __normalize(self, arr):\n",
    "        return arr / arr.sum(axis=1)[:, np.newaxis]\n",
    "    \n",
    "    def L0(self):\n",
    "        #compute [[m]](o): literal meaning\n",
    "        literal_meaning = self.truth_table\n",
    "\n",
    "        #P(o) -- create a matrix of priors by repeating the priors array for each row\n",
    "        priors = np.tile(np.array(self.priors), (self.n_mes,1))\n",
    "\n",
    "        #multiply the two of L0 terms together\n",
    "        unnorm  =  literal_meaning * priors\n",
    "\n",
    "        #normalize to obtain a probability distribution\n",
    "        norm = self.__normalize(unnorm)\n",
    "\n",
    "        return norm\n",
    "    \n",
    "    def S1(self):\n",
    "        #compute the costs for each expression in self.messages\n",
    "        costs = self.cost_function()\n",
    "\n",
    "        #utility without costs\n",
    "        epsilon = 1e-10 # to prevent log(0)\n",
    "        raw_utility = np.log(self.L0().T + epsilon)\n",
    "\n",
    "        #Cost(m) -- reshape to obtain correct dimensions for matrix multiplication\n",
    "        costs = np.repeat(self.cost_function(),2).reshape((self.n_mes, self.n_obj)).T # may be an error here\n",
    "\n",
    "        #compute utility by subtracting costs from informativity\n",
    "        utility = np.subtract(raw_utility,costs)\n",
    "\n",
    "        #compute S1(m|o) by taking the exponent of utility times the temperature parameter alpha\n",
    "        unnorm = np.exp(self.alpha*utility)\n",
    "\n",
    "        #normalize to obtain a probability distribution\n",
    "        norm = self.__normalize(unnorm)\n",
    "\n",
    "        return norm\n",
    "    \n",
    "    def L1(self):\n",
    "        #S1(m|o)\n",
    "        S1 = self.S1()\n",
    "        \n",
    "        #P(o) -- create a matrix of priors by repeating the priors array for each row\n",
    "        priors = np.tile(np.array(self.priors), (self.n_obj, 1)) # may be an error here\n",
    "\n",
    "        #multiply S1(m|o) (transformed, since we need a distribution over objects, not over messages) and P(o) together\n",
    "        unnorm = S1.T * priors\n",
    "\n",
    "        #normalize to obtain a probability distribution\n",
    "        norm = self.normalize(unnorm)\n",
    "\n",
    "        return norm       "
   ]
  },
  {
   "cell_type": "code",
   "execution_count": 81,
   "id": "563481c5",
   "metadata": {},
   "outputs": [
    {
     "name": "stdout",
     "output_type": "stream",
     "text": [
      "(3, 2)\n"
     ]
    }
   ],
   "source": [
    "# Example of vanilla model\n",
    "objects = ['greyhound','dalmatian']\n",
    "messages = ['dog','greyhound','dalmatian']\n",
    "truth_table = np.array([[1,1,0],[1,0,1]]).T\n",
    "print(truth_table.shape)\n",
    "priors = [0.5,0.5] # i.e. uniform\n",
    "alpha = 0.8\n",
    "\n",
    "def cost_function(): # we'll need to figure this out later\n",
    "    return [0,0,0]\n",
    "\n",
    "vanilla = RSAModel(objects, messages, truth_table, alpha, priors,cost_function)"
   ]
  },
  {
   "cell_type": "code",
   "execution_count": 82,
   "id": "b621881a",
   "metadata": {},
   "outputs": [
    {
     "data": {
      "text/plain": [
       "array([[0.5, 0.5],\n",
       "       [1. , 0. ],\n",
       "       [0. , 1. ]])"
      ]
     },
     "execution_count": 82,
     "metadata": {},
     "output_type": "execute_result"
    }
   ],
   "source": [
    "# vanilla L0\n",
    "vanilla.L0()"
   ]
  },
  {
   "cell_type": "code",
   "execution_count": 35,
   "id": "d1cdfedb",
   "metadata": {},
   "outputs": [
    {
     "ename": "ValueError",
     "evalue": "operands could not be broadcast together with shapes (3,2) (2,3) ",
     "output_type": "error",
     "traceback": [
      "\u001b[0;31m---------------------------------------------------------------------------\u001b[0m",
      "\u001b[0;31mValueError\u001b[0m                                Traceback (most recent call last)",
      "\u001b[0;32m/var/folders/6g/v4dn3hc95x1cy5j6qz2c4t6r0000gn/T/ipykernel_1230/3408435237.py\u001b[0m in \u001b[0;36m<module>\u001b[0;34m\u001b[0m\n\u001b[1;32m      1\u001b[0m \u001b[0;31m# vanilla S1\u001b[0m\u001b[0;34m\u001b[0m\u001b[0;34m\u001b[0m\u001b[0m\n\u001b[0;32m----> 2\u001b[0;31m \u001b[0mvanilla\u001b[0m\u001b[0;34m.\u001b[0m\u001b[0mS1\u001b[0m\u001b[0;34m(\u001b[0m\u001b[0;34m)\u001b[0m\u001b[0;34m\u001b[0m\u001b[0;34m\u001b[0m\u001b[0m\n\u001b[0m",
      "\u001b[0;32m/var/folders/6g/v4dn3hc95x1cy5j6qz2c4t6r0000gn/T/ipykernel_1230/3473480968.py\u001b[0m in \u001b[0;36mS1\u001b[0;34m(self)\u001b[0m\n\u001b[1;32m     53\u001b[0m \u001b[0;34m\u001b[0m\u001b[0m\n\u001b[1;32m     54\u001b[0m         \u001b[0;31m#compute utility by subtracting costs from informativity\u001b[0m\u001b[0;34m\u001b[0m\u001b[0;34m\u001b[0m\u001b[0m\n\u001b[0;32m---> 55\u001b[0;31m         \u001b[0mutility\u001b[0m \u001b[0;34m=\u001b[0m \u001b[0mnp\u001b[0m\u001b[0;34m.\u001b[0m\u001b[0msubtract\u001b[0m\u001b[0;34m(\u001b[0m\u001b[0mraw_utility\u001b[0m\u001b[0;34m,\u001b[0m\u001b[0mcosts\u001b[0m\u001b[0;34m)\u001b[0m\u001b[0;34m\u001b[0m\u001b[0;34m\u001b[0m\u001b[0m\n\u001b[0m\u001b[1;32m     56\u001b[0m \u001b[0;34m\u001b[0m\u001b[0m\n\u001b[1;32m     57\u001b[0m         \u001b[0;31m#compute S1(m|o) by taking the exponent of utility times the temperature parameter alpha\u001b[0m\u001b[0;34m\u001b[0m\u001b[0;34m\u001b[0m\u001b[0m\n",
      "\u001b[0;31mValueError\u001b[0m: operands could not be broadcast together with shapes (3,2) (2,3) "
     ]
    }
   ],
   "source": [
    "# vanilla S1\n",
    "vanilla.S1()"
   ]
  },
  {
   "cell_type": "code",
   "execution_count": 38,
   "id": "daf0a43b",
   "metadata": {},
   "outputs": [
    {
     "data": {
      "text/plain": [
       "array([[0, 0],\n",
       "       [0, 0],\n",
       "       [0, 0]])"
      ]
     },
     "execution_count": 38,
     "metadata": {},
     "output_type": "execute_result"
    }
   ],
   "source": [
    "np.repeat(vanilla.cost_function(),2).reshape((vanilla.n_mes, vanilla.n_obj))#.T"
   ]
  },
  {
   "cell_type": "code",
   "execution_count": 43,
   "id": "debc1e7c",
   "metadata": {},
   "outputs": [
    {
     "data": {
      "text/plain": [
       "array([[0.334, 0.333, 0.333],\n",
       "       [0.334, 0.333, 0.333]])"
      ]
     },
     "execution_count": 43,
     "metadata": {},
     "output_type": "execute_result"
    }
   ],
   "source": [
    "np.tile(np.array(priors), (len(objects),1))"
   ]
  },
  {
   "cell_type": "code",
   "execution_count": null,
   "id": "94f0db79",
   "metadata": {},
   "outputs": [],
   "source": []
  }
 ],
 "metadata": {
  "kernelspec": {
   "display_name": "Python 3 (ipykernel)",
   "language": "python",
   "name": "python3"
  },
  "language_info": {
   "codemirror_mode": {
    "name": "ipython",
    "version": 3
   },
   "file_extension": ".py",
   "mimetype": "text/x-python",
   "name": "python",
   "nbconvert_exporter": "python",
   "pygments_lexer": "ipython3",
   "version": "3.9.13"
  }
 },
 "nbformat": 4,
 "nbformat_minor": 5
}
